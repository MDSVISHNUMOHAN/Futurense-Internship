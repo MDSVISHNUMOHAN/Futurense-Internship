{
 "cells": [
  {
   "cell_type": "markdown",
   "metadata": {},
   "source": [
    "MUTTA DATTA SAI VISHNU MOHAN\n",
    "\n",
    "22BTRAD026"
   ]
  },
  {
   "cell_type": "markdown",
   "metadata": {},
   "source": [
    "INTERSHIP MEETING CODES \n",
    "\n",
    "29-02-24\n"
   ]
  },
  {
   "cell_type": "code",
   "execution_count": 1,
   "metadata": {},
   "outputs": [
    {
     "name": "stdout",
     "output_type": "stream",
     "text": [
      "8.0\n"
     ]
    }
   ],
   "source": [
    "#python codes to add 2 numbers\n",
    "a = float(input(\"Enter a number: \"))\n",
    "b = float(input(\"Enter a number: \"))\n",
    "result = a + b\n",
    "print(result)"
   ]
  },
  {
   "cell_type": "code",
   "execution_count": 2,
   "metadata": {},
   "outputs": [
    {
     "name": "stdout",
     "output_type": "stream",
     "text": [
      "4.0\n"
     ]
    }
   ],
   "source": [
    "#python code to find maximum of 2 numbers\n",
    "a = float(input(\"Enter a number: \"))\n",
    "b = float(input(\"Enter a number: \"))\n",
    "result = max(a,b)\n",
    "print(result)\n"
   ]
  },
  {
   "cell_type": "code",
   "execution_count": 7,
   "metadata": {},
   "outputs": [
    {
     "name": "stdout",
     "output_type": "stream",
     "text": [
      "Factorial of 5 is 120\n"
     ]
    }
   ],
   "source": [
    "#python program to print factorial of a number\n",
    "def factorial(x): \n",
    "       \n",
    "    if x == 0: \n",
    "        return 1\n",
    "    else:\n",
    "        return x * factorial(x-1) \n",
    "a = int(input(\"Enter a number: \")); \n",
    "print(\"Factorial of\", a , \"is\", factorial(a)) "
   ]
  },
  {
   "cell_type": "markdown",
   "metadata": {},
   "source": [
    "Simple Interest (SI) = (p * r * t)/100\n",
    "\n",
    "\n",
    "p = principle amount\n",
    "\n",
    "r = rate of interest\n",
    "\n",
    "t = time period\n",
    "​\n"
   ]
  },
  {
   "cell_type": "code",
   "execution_count": 8,
   "metadata": {},
   "outputs": [
    {
     "name": "stdout",
     "output_type": "stream",
     "text": [
      "920.0\n"
     ]
    }
   ],
   "source": [
    "#python code to find simple interest\n",
    "p = float(input(\"Enter the principle amount: \"))\n",
    "r = float(input(\"Enter the rate of nterest: \"))\n",
    "t = float(input(\"Enter the time period: \"))\n",
    "result = (p*r*t)/100\n",
    "print(result)"
   ]
  },
  {
   "cell_type": "markdown",
   "metadata": {},
   "source": [
    "a = p*((1)+(r/n))**(n*t)\n",
    "\n",
    "\n",
    "a = future value of the investment/loan, including interest.\n",
    "\n",
    "p = principle amount\n",
    "\n",
    "r = rate of interest\n",
    "\n",
    "t = time period\n",
    "\n",
    "n = number of times interest is compounded"
   ]
  },
  {
   "cell_type": "code",
   "execution_count": 8,
   "metadata": {},
   "outputs": [
    {
     "name": "stdout",
     "output_type": "stream",
     "text": [
      "The compound intrest is 50805263.42529088\n"
     ]
    }
   ],
   "source": [
    "#python program to find compound interest\n",
    "p = float(input(\"Enter the principal amount: \"))\n",
    "r = float(input(\"Enter the annual interest rate (as a decimal): \"))\n",
    "t = float(input(\"Enter the investment time in years: \"))\n",
    "n = int(input(\"Enter the number of times interest is compounded per year: \"))\n",
    "\n",
    "a = p*((1)+(r/n))**(n*t)\n",
    "print(\"The compound intrest is\",a)\n"
   ]
  },
  {
   "cell_type": "code",
   "execution_count": 2,
   "metadata": {},
   "outputs": [
    {
     "name": "stdout",
     "output_type": "stream",
     "text": [
      "Not Armstrong\n"
     ]
    }
   ],
   "source": [
    "#Program for armstrong number\n",
    "no=int(input(\"Enter number: \"))\n",
    "arm=0\n",
    "num=no\n",
    "while num!=0:\n",
    "    i=num%10\n",
    "    arm+=i**3\n",
    "    num=num//10\n",
    "if no==arm:\n",
    "    print(\"Armstrong number\")\n",
    "else:\n",
    "    print(\"Not Armstrong\")"
   ]
  },
  {
   "cell_type": "markdown",
   "metadata": {},
   "source": [
    "Area of circle = (pi)* (r**2)\n",
    "\n",
    "r = radius of circle"
   ]
  },
  {
   "cell_type": "code",
   "execution_count": 6,
   "metadata": {},
   "outputs": [
    {
     "name": "stdout",
     "output_type": "stream",
     "text": [
      "the area of circle with radius 9 is 254.46900494077323\n"
     ]
    }
   ],
   "source": [
    "#python program to find area of circle\n",
    "from math import pi\n",
    "r = eval(input(\"Enter the radius of circle: \"))\n",
    "area = (pi) * (r**2)\n",
    "print(\"the area of circle with radius\",r,\"is\",area)"
   ]
  },
  {
   "cell_type": "code",
   "execution_count": 1,
   "metadata": {},
   "outputs": [
    {
     "name": "stdout",
     "output_type": "stream",
     "text": [
      "prime numbers between 1 and 100 are: \n",
      "2 3 5 7 11 13 17 19 23 29 31 37 41 43 47 53 59 61 67 71 73 79 83 89 97 "
     ]
    }
   ],
   "source": [
    "#python code to print all prime numbers within interval\n",
    "def is_prime(num):\n",
    "    if num < 2:\n",
    "        return False\n",
    "    for i in range(2, int(num**0.5) + 1):\n",
    "        if num % i == 0:\n",
    "            return False\n",
    "    return True\n",
    "\n",
    "def print_primes_in_interval(a, b):\n",
    "    print(\"prime numbers between\", a,\"and\", b,\"are: \")\n",
    "    for num in range(a, b + 1):\n",
    "        if is_prime(num):\n",
    "            print(num, end=' ')\n",
    "\n",
    "start_interval = int(input(\"Enter the start interval: \"))\n",
    "end_interval = int(input(\"Enter the stop interval: \"))\n",
    "print_primes_in_interval(start_interval, end_interval)\n"
   ]
  },
  {
   "cell_type": "code",
   "execution_count": 2,
   "metadata": {},
   "outputs": [
    {
     "name": "stdout",
     "output_type": "stream",
     "text": [
      "3 is a prime number\n"
     ]
    }
   ],
   "source": [
    "#python program to check whether a number is prime or not\n",
    "def prime_number(num):\n",
    "    if num < 2:\n",
    "        return False\n",
    "    for i in range(2, int(num**0.5) + 1):\n",
    "        if num % i == 0:\n",
    "            return False\n",
    "    return True\n",
    "\n",
    "a = int(input(\"enter a number: \"))\n",
    "if prime_number(a):\n",
    "    print(a, \"is a prime number\")\n",
    "else:\n",
    "    print(a, \"is not a prime number\")"
   ]
  },
  {
   "cell_type": "code",
   "execution_count": 3,
   "metadata": {},
   "outputs": [
    {
     "name": "stdout",
     "output_type": "stream",
     "text": [
      "Fibonacci sequence up to 9 : [0, 1, 1, 2, 3, 5, 8]\n"
     ]
    }
   ],
   "source": [
    "#python code to print nth fibonacci numbers\n",
    "def fibonacci(limit):\n",
    "    sequence = [0, 1]\n",
    "    \n",
    "    while sequence[-1] + sequence[-2] <= limit:\n",
    "        sequence.append(sequence[-1] + sequence[-2])\n",
    "    return sequence\n",
    "\n",
    "limit = int(input(\"Enter the limit for Fibonacci sequence: \"))\n",
    "sequence = fibonacci(limit)\n",
    "print(\"Fibonacci sequence up to\", limit, \":\", sequence)"
   ]
  }
 ],
 "metadata": {
  "kernelspec": {
   "display_name": "Python 3",
   "language": "python",
   "name": "python3"
  },
  "language_info": {
   "codemirror_mode": {
    "name": "ipython",
    "version": 3
   },
   "file_extension": ".py",
   "mimetype": "text/x-python",
   "name": "python",
   "nbconvert_exporter": "python",
   "pygments_lexer": "ipython3",
   "version": "undefined.undefined.undefined"
  }
 },
 "nbformat": 4,
 "nbformat_minor": 2
}
