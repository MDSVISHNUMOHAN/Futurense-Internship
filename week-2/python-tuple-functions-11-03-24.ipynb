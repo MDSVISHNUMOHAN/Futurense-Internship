{
 "cells": [
  {
   "cell_type": "markdown",
   "metadata": {},
   "source": [
    "Q1. Write a Python program to calculate the product, multiplying all the numbers in a given tuple.\n",
    "\n",
    "Original Tuple:\n",
    "\n",
    "(4, 3, 2, 2, -1, 18)\n",
    "\n",
    "Product - multiplying all the numbers of the said tuple: -864\n",
    "\n",
    "Original Tuple:\n",
    "\n",
    "(2, 4, 8, 8, 3, 2, 9)\n",
    "\n",
    "Product - multiplying all the numbers of the said tuple: 27648"
   ]
  },
  {
   "cell_type": "code",
   "execution_count": 4,
   "metadata": {},
   "outputs": [
    {
     "name": "stdout",
     "output_type": "stream",
     "text": [
      "(2, 3, 4, 5, 6)\n",
      "Product - multiplying all the numbers of the tuple: 720\n"
     ]
    }
   ],
   "source": [
    "def calculate_product(numbers_tuple):\n",
    "    result = 1\n",
    "    for num in numbers_tuple:\n",
    "        result *= num\n",
    "    return result\n",
    "\n",
    "# User input for tuple values\n",
    "user_input = input(\"Enter numbers separated by commas: \")\n",
    "\n",
    "# Convert user input to a tuple of integers\n",
    "user_values = tuple(map(int, user_input.split(',')))\n",
    "print(user_values)\n",
    "# Calculate the product\n",
    "product_result = calculate_product(user_values)\n",
    "\n",
    "# Display the result\n",
    "print(f\"Product - multiplying all the numbers of the tuple: {product_result}\")"
   ]
  },
  {
   "cell_type": "markdown",
   "metadata": {},
   "source": [
    "Q2. Write a Python program to calculate the average value of the numbers in a given tuple of tuples.\n",
    "\n",
    "Original Tuple:\n",
    "\n",
    "((10, 10, 10, 12), (30, 45, 56, 45), (81, 80, 39, 32), (1, 2, 3, 4))\n",
    "\n",
    "Average value of the numbers of the said tuple of tuples:\n",
    "\n",
    "[30.5, 34.25, 27.0, 23.25]\n",
    "\n",
    "Original Tuple:\n",
    "\n",
    "((1, 1, -5), (30, -15, 56), (81, -60, -39), (-10, 2, 3))\n",
    "\n",
    "Average value of the numbers of the said tuple of tuples: [25.5, -18.0, 3.75]"
   ]
  },
  {
   "cell_type": "code",
   "execution_count": 1,
   "metadata": {},
   "outputs": [
    {
     "name": "stdout",
     "output_type": "stream",
     "text": [
      "Original Tuple:\n",
      " ((10, 10, 10, 12), (30, 45, 56, 45), (81, 80, 39, 32), (1, 2, 3, 4))\n",
      "Average value of the numbers of the said tuple of tuples:\n",
      " [10.5, 44.0, 58.0, 2.5]\n",
      "\n",
      "Original Tuple:\n",
      " ((1, 1, -5), (30, -15, 56), (81, -60, -39), (-10, 2, 3))\n",
      "Average value of the numbers of the said tuple of tuples:\n",
      " [-1.0, 23.666666666666668, -6.0, -1.6666666666666667]\n"
     ]
    }
   ],
   "source": [
    "def calculate_average(tuples):\n",
    "    averages = []\n",
    "    for inner_tuple in tuples:\n",
    "        avg = sum(inner_tuple) / len(inner_tuple)\n",
    "        averages.append(avg)\n",
    "    return averages\n",
    "\n",
    "# Original Tuple of Tuples 1\n",
    "original_tuples1 = ((10, 10, 10, 12), (30, 45, 56, 45), (81, 80, 39, 32), (1, 2, 3, 4))\n",
    "print(\"Original Tuple:\\n\", original_tuples1)\n",
    "print(\"Average value of the numbers of the said tuple of tuples:\\n\", calculate_average(original_tuples1))\n",
    "\n",
    "# Original Tuple of Tuples 2\n",
    "original_tuples2 = ((1, 1, -5), (30, -15, 56), (81, -60, -39), (-10, 2, 3))\n",
    "print(\"\\nOriginal Tuple:\\n\", original_tuples2)\n",
    "print(\"Average value of the numbers of the said tuple of tuples:\\n\", calculate_average(original_tuples2))\n"
   ]
  }
 ],
 "metadata": {
  "kernelspec": {
   "display_name": "Python 3",
   "language": "python",
   "name": "python3"
  },
  "language_info": {
   "codemirror_mode": {
    "name": "ipython",
    "version": 3
   },
   "file_extension": ".py",
   "mimetype": "text/x-python",
   "name": "python",
   "nbconvert_exporter": "python",
   "pygments_lexer": "ipython3",
   "version": "3.12.2"
  }
 },
 "nbformat": 4,
 "nbformat_minor": 2
}
